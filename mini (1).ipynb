{
  "nbformat": 4,
  "nbformat_minor": 0,
  "metadata": {
    "colab": {
      "name": "mini.ipynb",
      "provenance": [],
      "collapsed_sections": []
    },
    "kernelspec": {
      "name": "python3",
      "display_name": "Python 3"
    }
  },
  "cells": [
    {
      "cell_type": "code",
      "metadata": {
        "id": "mxz196lJuotj",
        "outputId": "ff7cdc0e-41fe-42eb-a2e0-f38ab61ed5d4",
        "colab": {
          "base_uri": "https://localhost:8080/",
          "height": 706
        }
      },
      "source": [
        "import keras\n",
        "from keras.layers import Dense\n",
        "import sklearn\n",
        "from sklearn.preprocessing import OneHotEncoder\n",
        "from sklearn.model_selection import train_test_split\n",
        "from sklearn.preprocessing import StandardScaler\n",
        "from keras.utils.np_utils import to_categorical\n",
        "from keras.models import Sequential\n",
        "import pandas as pd\n",
        "df= pd.read_csv(\"datasets_19_420_Iris.csv\")\n",
        "Y=df[\"Species\"].values\n",
        "encoder=OneHotEncoder(sparse=False)\n",
        "Y=Y.reshape(-1,1)\n",
        "Y=encoder.fit_transform(Y)\n",
        "features=df.drop([\"Species\",\"Id\"],axis=1).values\n",
        "x_train,x_test,y_train,y_test= train_test_split(features,Y)\n",
        "scaler= StandardScaler()\n",
        "scaler.fit(x_train)\n",
        "x_train= scaler.transform(x_train)\n",
        "X_test= scaler.transform(x_test)\n",
        "model= Sequential()\n",
        "model.add(Dense(50,activation=\"relu\",input_shape=(4,)))\n",
        "model.add(Dense(12,activation=\"relu\"))\n",
        "model.add(Dense(3,activation=\"softmax\"))\n",
        "model.compile(optimizer=\"adam\",loss=\"categorical_crossentropy\",metrics=[\"accuracy\"])\n",
        "model.fit(features,Y,epochs=20)"
      ],
      "execution_count": null,
      "outputs": [
        {
          "output_type": "stream",
          "text": [
            "Epoch 1/20\n",
            "5/5 [==============================] - 0s 2ms/step - loss: 2.1249 - accuracy: 0.3333\n",
            "Epoch 2/20\n",
            "5/5 [==============================] - 0s 2ms/step - loss: 1.6772 - accuracy: 0.3333\n",
            "Epoch 3/20\n",
            "5/5 [==============================] - 0s 2ms/step - loss: 1.3614 - accuracy: 0.3667\n",
            "Epoch 4/20\n",
            "5/5 [==============================] - 0s 2ms/step - loss: 1.1750 - accuracy: 0.6667\n",
            "Epoch 5/20\n",
            "5/5 [==============================] - 0s 2ms/step - loss: 1.0512 - accuracy: 0.6667\n",
            "Epoch 6/20\n",
            "5/5 [==============================] - 0s 2ms/step - loss: 0.9483 - accuracy: 0.6667\n",
            "Epoch 7/20\n",
            "5/5 [==============================] - 0s 2ms/step - loss: 0.8686 - accuracy: 0.6667\n",
            "Epoch 8/20\n",
            "5/5 [==============================] - 0s 2ms/step - loss: 0.8173 - accuracy: 0.6667\n",
            "Epoch 9/20\n",
            "5/5 [==============================] - 0s 1ms/step - loss: 0.7843 - accuracy: 0.7067\n",
            "Epoch 10/20\n",
            "5/5 [==============================] - 0s 2ms/step - loss: 0.7549 - accuracy: 0.7333\n",
            "Epoch 11/20\n",
            "5/5 [==============================] - 0s 2ms/step - loss: 0.7266 - accuracy: 0.7067\n",
            "Epoch 12/20\n",
            "5/5 [==============================] - 0s 2ms/step - loss: 0.7010 - accuracy: 0.7000\n",
            "Epoch 13/20\n",
            "5/5 [==============================] - 0s 1ms/step - loss: 0.6760 - accuracy: 0.6933\n",
            "Epoch 14/20\n",
            "5/5 [==============================] - 0s 2ms/step - loss: 0.6543 - accuracy: 0.7000\n",
            "Epoch 15/20\n",
            "5/5 [==============================] - 0s 2ms/step - loss: 0.6355 - accuracy: 0.7000\n",
            "Epoch 16/20\n",
            "5/5 [==============================] - 0s 2ms/step - loss: 0.6180 - accuracy: 0.6933\n",
            "Epoch 17/20\n",
            "5/5 [==============================] - 0s 1ms/step - loss: 0.6023 - accuracy: 0.6933\n",
            "Epoch 18/20\n",
            "5/5 [==============================] - 0s 2ms/step - loss: 0.5866 - accuracy: 0.7133\n",
            "Epoch 19/20\n",
            "5/5 [==============================] - 0s 2ms/step - loss: 0.5708 - accuracy: 0.7667\n",
            "Epoch 20/20\n",
            "5/5 [==============================] - 0s 2ms/step - loss: 0.5573 - accuracy: 0.8067\n"
          ],
          "name": "stdout"
        },
        {
          "output_type": "execute_result",
          "data": {
            "text/plain": [
              "<tensorflow.python.keras.callbacks.History at 0x7fd6dd5f14e0>"
            ]
          },
          "metadata": {
            "tags": []
          },
          "execution_count": 2
        }
      ]
    },
    {
      "cell_type": "code",
      "metadata": {
        "id": "jr0llJPISK0b",
        "outputId": "a1a6688f-7b41-4be8-93d7-b2c7e8d7864d",
        "colab": {
          "base_uri": "https://localhost:8080/",
          "height": 77
        }
      },
      "source": [
        "newdt.head()"
      ],
      "execution_count": null,
      "outputs": [
        {
          "output_type": "execute_result",
          "data": {
            "text/html": [
              "<div>\n",
              "<style scoped>\n",
              "    .dataframe tbody tr th:only-of-type {\n",
              "        vertical-align: middle;\n",
              "    }\n",
              "\n",
              "    .dataframe tbody tr th {\n",
              "        vertical-align: top;\n",
              "    }\n",
              "\n",
              "    .dataframe thead th {\n",
              "        text-align: right;\n",
              "    }\n",
              "</style>\n",
              "<table border=\"1\" class=\"dataframe\">\n",
              "  <thead>\n",
              "    <tr style=\"text-align: right;\">\n",
              "      <th></th>\n",
              "      <th>SepalLengthCm</th>\n",
              "      <th>SepalWidthCm</th>\n",
              "      <th>PetalLengthCm</th>\n",
              "      <th>PetalWidthCm</th>\n",
              "    </tr>\n",
              "  </thead>\n",
              "  <tbody>\n",
              "    <tr>\n",
              "      <th>0</th>\n",
              "      <td>1.5</td>\n",
              "      <td>2.3</td>\n",
              "      <td>4.4</td>\n",
              "      <td>0.2</td>\n",
              "    </tr>\n",
              "  </tbody>\n",
              "</table>\n",
              "</div>"
            ],
            "text/plain": [
              "   SepalLengthCm  SepalWidthCm  PetalLengthCm  PetalWidthCm\n",
              "0            1.5           2.3            4.4           0.2"
            ]
          },
          "metadata": {
            "tags": []
          },
          "execution_count": 8
        }
      ]
    },
    {
      "cell_type": "code",
      "metadata": {
        "id": "4WWbgoCPSdhw",
        "outputId": "8fc633db-986d-4555-da0c-98537d6b56a7",
        "colab": {
          "base_uri": "https://localhost:8080/",
          "height": 34
        }
      },
      "source": [
        "newdt= pd.read_csv(\"iris_data.csv\")\n",
        "model.predict(newdt)"
      ],
      "execution_count": null,
      "outputs": [
        {
          "output_type": "execute_result",
          "data": {
            "text/plain": [
              "array([[0.1389538 , 0.46222106, 0.39882505]], dtype=float32)"
            ]
          },
          "metadata": {
            "tags": []
          },
          "execution_count": 11
        }
      ]
    },
    {
      "cell_type": "code",
      "metadata": {
        "id": "0JLMSMW3STMy",
        "outputId": "33096181-a6a8-48ee-c364-9698797d384a",
        "colab": {
          "base_uri": "https://localhost:8080/",
          "height": 77
        }
      },
      "source": [
        "newdt1.head()"
      ],
      "execution_count": null,
      "outputs": [
        {
          "output_type": "execute_result",
          "data": {
            "text/html": [
              "<div>\n",
              "<style scoped>\n",
              "    .dataframe tbody tr th:only-of-type {\n",
              "        vertical-align: middle;\n",
              "    }\n",
              "\n",
              "    .dataframe tbody tr th {\n",
              "        vertical-align: top;\n",
              "    }\n",
              "\n",
              "    .dataframe thead th {\n",
              "        text-align: right;\n",
              "    }\n",
              "</style>\n",
              "<table border=\"1\" class=\"dataframe\">\n",
              "  <thead>\n",
              "    <tr style=\"text-align: right;\">\n",
              "      <th></th>\n",
              "      <th>SepalLengthCm</th>\n",
              "      <th>SepalWidthCm</th>\n",
              "      <th>PetalLengthCm</th>\n",
              "      <th>PetalWidthCm</th>\n",
              "    </tr>\n",
              "  </thead>\n",
              "  <tbody>\n",
              "    <tr>\n",
              "      <th>0</th>\n",
              "      <td>5.7</td>\n",
              "      <td>3.3</td>\n",
              "      <td>4.1</td>\n",
              "      <td>2.5</td>\n",
              "    </tr>\n",
              "  </tbody>\n",
              "</table>\n",
              "</div>"
            ],
            "text/plain": [
              "   SepalLengthCm  SepalWidthCm  PetalLengthCm  PetalWidthCm\n",
              "0            5.7           3.3            4.1           2.5"
            ]
          },
          "metadata": {
            "tags": []
          },
          "execution_count": 9
        }
      ]
    },
    {
      "cell_type": "code",
      "metadata": {
        "id": "VMRuJ244Ql5i",
        "outputId": "0b002145-06ca-42ea-9fe5-90d4af944fdf",
        "colab": {
          "base_uri": "https://localhost:8080/",
          "height": 34
        }
      },
      "source": [
        "newdt1= pd.read_csv(\"iris_data1.csv\")\n",
        "model.predict(newdt1)"
      ],
      "execution_count": null,
      "outputs": [
        {
          "output_type": "execute_result",
          "data": {
            "text/plain": [
              "array([[0.06839985, 0.458621  , 0.4729791 ]], dtype=float32)"
            ]
          },
          "metadata": {
            "tags": []
          },
          "execution_count": 10
        }
      ]
    }
  ]
}